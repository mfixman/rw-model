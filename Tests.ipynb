{
 "cells": [
  {
   "cell_type": "markdown",
   "id": "544a918c-9169-4823-8ef4-0f18df65dd1e",
   "metadata": {},
   "source": [
    "# Prelude"
   ]
  },
  {
   "cell_type": "code",
   "execution_count": 231,
   "id": "6992b44f-8a4a-4654-a6ed-9890889a6fc7",
   "metadata": {},
   "outputs": [],
   "source": [
    "import pprint\n",
    "from itertools import combinations, chain\n",
    "import math"
   ]
  },
  {
   "cell_type": "code",
   "execution_count": 232,
   "id": "cedb47a7-d973-4695-9c39-469e7141b421",
   "metadata": {},
   "outputs": [
    {
     "data": {
      "text/plain": [
       "<function __main__.custom_float_formatter(float_value, p, cycle)>"
      ]
     },
     "execution_count": 232,
     "metadata": {},
     "output_type": "execute_result"
    }
   ],
   "source": [
    "from IPython import get_ipython\n",
    "\n",
    "def custom_float_formatter(float_value, p, cycle):\n",
    "    p.text(f\"{float_value:g}\")\n",
    "\n",
    "ip = get_ipython()\n",
    "formatter = ip.display_formatter.formatters['text/plain']\n",
    "formatter.for_type(float, custom_float_formatter)"
   ]
  },
  {
   "cell_type": "markdown",
   "id": "7ccd92b8-4d47-4058-b11d-d39deec068f7",
   "metadata": {},
   "source": [
    "# First Formula"
   ]
  },
  {
   "cell_type": "markdown",
   "id": "299eb709-e943-4538-9596-20aa5fbb132d",
   "metadata": {},
   "source": [
    "$$\n",
    "V^{n + 1}_{A, \\varrho} = V^n_{A, \\varrho} + \\alpha_A \\, \\beta_{\\varrho} \\, \\left( \\gamma_{\\varrho} - \\sum_{q = 0}^n { V^n_q } \\right)\n",
    "$$"
   ]
  },
  {
   "cell_type": "code",
   "execution_count": 27,
   "id": "cda3c6ee-7836-40fa-a46f-ba34016c3972",
   "metadata": {},
   "outputs": [],
   "source": [
    "alpha = dict(\n",
    "    A = 0.1,\n",
    "    B = 0.2,\n",
    "    C = 0.3,\n",
    ")\n",
    "\n",
    "beta = 1\n",
    "gamma = 1"
   ]
  },
  {
   "cell_type": "code",
   "execution_count": 72,
   "id": "a64a687a-aa81-4c8f-9c3e-9c9db3b0f936",
   "metadata": {},
   "outputs": [],
   "source": [
    "use = alpha\n",
    "V = {p: [0.] for p in use.keys()}\n",
    "\n",
    "steps = 10\n",
    "for i in range(steps):\n",
    "    sigma = sum(x[-1] for x in V.values())\n",
    "    for k, v in V.items():\n",
    "        v.append(v[-1] + alpha[k] * beta * (gamma - sigma))\n",
    "\n",
    "h = V.copy()\n",
    "for q in range(2, len(V) + 1):\n",
    "    for k in combinations(h.items(), q):\n",
    "        V[''.join(x[0] for x in k)] = [sum(y) for y in zip(*(x[1] for x in k))]"
   ]
  },
  {
   "cell_type": "code",
   "execution_count": 239,
   "id": "381600de-a174-44ec-823a-9a801894af68",
   "metadata": {},
   "outputs": [],
   "source": [
    "class Group:\n",
    "    def __init__(self, alphas, betan, betap, gamman, gammap, use_compounds = False):\n",
    "        self.alphas = alphas\n",
    "        self.betan = betan\n",
    "        self.betap = betap\n",
    "        self.gamman = gamman\n",
    "        self.gammap = gammap\n",
    "        self.use_compounds = use_compounds\n",
    "\n",
    "        self.cs = [x for x in alphas.keys() if len(x) == 1]\n",
    "        if use_compounds:\n",
    "            simples = {k: v for k, v in alphas.items() if len(k) == 1}\n",
    "            compounds = {\n",
    "                ''.join(p[0] for p in x): math.prod(p[1] for p in x)\n",
    "                for x in sum([list(combinations(simples.items(), t)) for t in range(1, len(simples) + 1)], [])\n",
    "            }\n",
    "            self.alphas = compounds | alphas\n",
    "            self.cs = self.alphas.keys()\n",
    "\n",
    "        self.assoc = {c: 0. for c in self.cs}\n",
    "\n",
    "    @staticmethod\n",
    "    def combine(V):\n",
    "        h = dict()\n",
    "\n",
    "        simples = {k: v for k, v in V.items() if len(k) == 1}\n",
    "        compounds = {k: v for k, v in V.items() if len(k) > 1}\n",
    "        for size in range(1, len(V) + 1):\n",
    "            for comb in combinations(simples.items(), size):\n",
    "                names = [x[0] for x in comb]\n",
    "                assocs = [x[1] for x in comb]\n",
    "                h[''.join(names)] = [sum(x) for x in zip(*assocs)]\n",
    "\n",
    "        for k, v in compounds.items():\n",
    "            h[k] = [x + y for x, y in zip(h[k], v)]\n",
    "            h[f'c({k})'] = v\n",
    "\n",
    "        return h\n",
    "\n",
    "    def runPhase(self, steps, conds, plus = True, ret_V = False):\n",
    "        beta = self.betan\n",
    "        gamma = self.gamman\n",
    "        if plus:\n",
    "            beta = self.betap\n",
    "            gamma = self.gammap\n",
    "\n",
    "        compounds = list(conds)\n",
    "        if self.use_compounds:\n",
    "            compounds.append(conds)\n",
    "\n",
    "        V = {x: [self.assoc[x]] for x in compounds}\n",
    "        for step in range(steps):\n",
    "            sigma = sum(self.assoc[x] for x in compounds)\n",
    "            for cs in compounds:\n",
    "                self.assoc[cs] += self.alphas[cs] * beta * (gamma - sigma)\n",
    "                V[cs].append(self.assoc[cs])\n",
    "\n",
    "        if ret_V:\n",
    "            return self.combine(V)\n",
    "\n",
    "        return self"
   ]
  },
  {
   "cell_type": "code",
   "execution_count": 207,
   "id": "ec93a7bf-1504-4299-a28c-51a40aaa25ab",
   "metadata": {},
   "outputs": [
    {
     "data": {
      "text/plain": [
       "[{'A': [0, 0.2, 0.32, 0.392, 0.4352, 0.46112],\n",
       "  'B': [0, 0.2, 0.32, 0.392, 0.4352, 0.46112],\n",
       "  'AB': [0, 0.4, 0.64, 0.784, 0.8704, 0.92224]},\n",
       " {'A': [0.46112, 0.368896, 0.295117, 0.236093, 0.188875, 0.1511],\n",
       "  'B': [0.46112, 0.368896, 0.295117, 0.236093, 0.188875, 0.1511],\n",
       "  'AB': [0.92224, 0.737792, 0.590234, 0.472187, 0.37775, 0.3022]}]"
      ]
     },
     "execution_count": 207,
     "metadata": {},
     "output_type": "execute_result"
    }
   ],
   "source": [
    "g = Group(\n",
    "    alphas = {'A': 0.2, 'B': 0.2, 'C': 0.2},\n",
    "    betan = 0.5,\n",
    "    gamman = 0,\n",
    "    betap = 1,\n",
    "    gammap = 1,\n",
    ")\n",
    "\n",
    "v0 = g.runPhase(5, ['A', 'B'], ret_V = True)\n",
    "v1 = g.runPhase(5, ['A', 'B'], plus = False, ret_V = True)\n",
    "\n",
    "[v0, v1]"
   ]
  },
  {
   "cell_type": "code",
   "execution_count": 240,
   "id": "c4e60e32-06d0-48c3-8748-6cea667065e0",
   "metadata": {},
   "outputs": [
    {
     "data": {
      "text/plain": [
       "[{'A': [0, 0.2, 0.28, 0.312, 0.3248, 0.32992],\n",
       "  'B': [0, 0.2, 0.28, 0.312, 0.3248, 0.32992],\n",
       "  'C': [0, 0.2, 0.28, 0.312, 0.3248, 0.32992],\n",
       "  'AB': [0, 0.4, 0.56, 0.624, 0.6496, 0.65984],\n",
       "  'AC': [0, 0.4, 0.56, 0.624, 0.6496, 0.65984],\n",
       "  'BC': [0, 0.4, 0.56, 0.624, 0.6496, 0.65984],\n",
       "  'ABC': [0, 0.6, 0.84, 0.936, 0.9744, 0.98976]},\n",
       " {'A': [0.32992, 0.263936, 0.211149, 0.168919, 0.135135, 0.108108],\n",
       "  'B': [0.32992, 0.263936, 0.211149, 0.168919, 0.135135, 0.108108],\n",
       "  'AB': [0.65984, 0.527872, 0.422298, 0.337838, 0.27027, 0.216216]}]"
      ]
     },
     "execution_count": 240,
     "metadata": {},
     "output_type": "execute_result"
    }
   ],
   "source": [
    "g = Group(\n",
    "    alphas = {'A': 0.2, 'B': 0.2, 'C': 0.2},\n",
    "    betan = 0.5,\n",
    "    gamman = 0,\n",
    "    betap = 1,\n",
    "    gammap = 1,\n",
    "    use_compounds = False,\n",
    ")\n",
    "\n",
    "v0 = g.runPhase(5, 'ABC', ret_V = True)\n",
    "v1 = g.runPhase(5, 'AB', plus = False, ret_V = True)\n",
    "\n",
    "[v0, v1]"
   ]
  },
  {
   "cell_type": "code",
   "execution_count": null,
   "id": "d3364c96-fb53-4ecf-907d-fbb173467a75",
   "metadata": {},
   "outputs": [],
   "source": [
    "g = Group(\n",
    "    alphas = {'A': 0.2, 'B': 0.2, 'AB': 0.2 ** 2, 'C': },\n",
    "    betan = 0.5,\n",
    "    gamman = 0,\n",
    "    betap = 1,\n",
    "    gammap = 1,\n",
    "    use_compounds = True,\n",
    ")\n",
    "\n",
    "v0 = g.runPhase(5, 'AB', ret_V = True)\n",
    "v1 = g.runPhase(5, 'AB', plus = False, ret_V = True)\n",
    "\n",
    "[v0, v1]"
   ]
  }
 ],
 "metadata": {
  "kernelspec": {
   "display_name": "Python 3 (ipykernel)",
   "language": "python",
   "name": "python3"
  },
  "language_info": {
   "codemirror_mode": {
    "name": "ipython",
    "version": 3
   },
   "file_extension": ".py",
   "mimetype": "text/x-python",
   "name": "python",
   "nbconvert_exporter": "python",
   "pygments_lexer": "ipython3",
   "version": "3.11.6"
  }
 },
 "nbformat": 4,
 "nbformat_minor": 5
}
